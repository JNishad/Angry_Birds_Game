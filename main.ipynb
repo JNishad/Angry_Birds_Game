{
 "cells": [
  {
   "cell_type": "code",
   "execution_count": 1,
   "id": "54485cc6",
   "metadata": {},
   "outputs": [
    {
     "name": "stdout",
     "output_type": "stream",
     "text": [
      "pygame 2.1.2 (SDL 2.0.18, Python 3.9.7)\n",
      "Hello from the pygame community. https://www.pygame.org/contribute.html\n"
     ]
    }
   ],
   "source": [
    "import pygame\n",
    "import sys\n",
    "import random\n",
    "from math import *\n",
    "\n",
    "import physics_engine\n",
    "import objects\n",
    "import maps\n",
    "import interface"
   ]
  },
  {
   "cell_type": "code",
   "execution_count": 2,
   "id": "b418f5ea",
   "metadata": {},
   "outputs": [],
   "source": [
    "pygame.init()\n",
    "width = 1500\n",
    "height = 700\n",
    "display = pygame.display.set_mode((width, height))\n",
    "clock = pygame.time.Clock()\n",
    "\n",
    "physics_engine.init(display)\n",
    "objects.init(display)\n",
    "maps.init(display)\n",
    "interface.init(display)\n",
    "\n",
    "background = (51, 51, 51)"
   ]
  },
  {
   "cell_type": "code",
   "execution_count": 3,
   "id": "2518f200",
   "metadata": {},
   "outputs": [],
   "source": [
    "def close():\n",
    "    pygame.quit()\n",
    "    sys.exit()\n"
   ]
  },
  {
   "cell_type": "code",
   "execution_count": 4,
   "id": "7b47f2de",
   "metadata": {},
   "outputs": [],
   "source": [
    "def start_game(map):\n",
    "    map.draw_map()\n"
   ]
  },
  {
   "cell_type": "code",
   "execution_count": 5,
   "id": "95120560",
   "metadata": {},
   "outputs": [
    {
     "name": "stdout",
     "output_type": "stream",
     "text": [
      "LOADED!\n"
     ]
    },
    {
     "ename": "SystemExit",
     "evalue": "",
     "output_type": "error",
     "traceback": [
      "An exception has occurred, use %tb to see the full traceback.\n",
      "\u001b[1;31mSystemExit\u001b[0m\n"
     ]
    },
    {
     "name": "stderr",
     "output_type": "stream",
     "text": [
      "C:\\Users\\Admin\\anaconda3\\lib\\site-packages\\IPython\\core\\interactiveshell.py:3452: UserWarning: To exit: use 'exit', 'quit', or Ctrl-D.\n",
      "  warn(\"To exit: use 'exit', 'quit', or Ctrl-D.\", stacklevel=1)\n"
     ]
    }
   ],
   "source": [
    "def GAME():\n",
    "    map = maps.Maps()\n",
    "\n",
    "    welcome = interface.Label(700, 100, 400, 200, None, background)\n",
    "    welcome.add_text(\"ANGRY BIRDS\", 80, \"Fonts/arfmoochikncheez.ttf\", (236, 240, 241))\n",
    "\n",
    "    start = interface.Button(500, 400, 300, 100, start_game, (244, 208, 63), (247, 220, 111))\n",
    "    start.add_text(\"START GAME\", 60, \"Fonts/arfmoochikncheez.ttf\", background)\n",
    "\n",
    "    exit = interface.Button(1000, 400, 300, 100, close, (241, 148, 138), (245, 183, 177))\n",
    "    exit.add_text(\"QUIT\", 60, \"Fonts/arfmoochikncheez.ttf\", background)\n",
    "\n",
    "    mandav = interface.Button(width - 300, height - 80, 300, 100, None, background)\n",
    "    mandav.add_text(\"MANDAV\", 60, \"Fonts/arfmoochikncheez.ttf\", (41, 41, 41))\n",
    "\n",
    "    while True:\n",
    "        for event in pygame.event.get():\n",
    "            if event.type == pygame.QUIT:\n",
    "                close()\n",
    "            if event.type == pygame.KEYDOWN:\n",
    "                if event.key == pygame.K_q:\n",
    "                    close()\n",
    "\n",
    "            if event.type == pygame.MOUSEBUTTONDOWN:\n",
    "                if exit.isActive():\n",
    "                    exit.action()\n",
    "                if start.isActive():\n",
    "                    start_game(map)\n",
    "\n",
    "        display.fill(background)\n",
    "\n",
    "        start.draw()\n",
    "        exit.draw()\n",
    "        welcome.draw()\n",
    "        mandav.draw()\n",
    "\n",
    "        pygame.display.update()\n",
    "        clock.tick(60)\n",
    "\n",
    "GAME()\n"
   ]
  },
  {
   "cell_type": "code",
   "execution_count": null,
   "id": "a6c1eaab",
   "metadata": {},
   "outputs": [],
   "source": []
  },
  {
   "cell_type": "code",
   "execution_count": null,
   "id": "ab2aa034",
   "metadata": {},
   "outputs": [],
   "source": []
  },
  {
   "cell_type": "code",
   "execution_count": null,
   "id": "51e2795b",
   "metadata": {},
   "outputs": [],
   "source": []
  },
  {
   "cell_type": "code",
   "execution_count": null,
   "id": "c11e76ae",
   "metadata": {},
   "outputs": [],
   "source": []
  },
  {
   "cell_type": "code",
   "execution_count": null,
   "id": "01a7e809",
   "metadata": {},
   "outputs": [],
   "source": []
  }
 ],
 "metadata": {
  "kernelspec": {
   "display_name": "Python 3 (ipykernel)",
   "language": "python",
   "name": "python3"
  },
  "language_info": {
   "codemirror_mode": {
    "name": "ipython",
    "version": 3
   },
   "file_extension": ".py",
   "mimetype": "text/x-python",
   "name": "python",
   "nbconvert_exporter": "python",
   "pygments_lexer": "ipython3",
   "version": "3.9.7"
  }
 },
 "nbformat": 4,
 "nbformat_minor": 5
}
